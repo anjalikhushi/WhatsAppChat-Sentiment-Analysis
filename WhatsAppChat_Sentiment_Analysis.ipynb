{
  "nbformat": 4,
  "nbformat_minor": 0,
  "metadata": {
    "colab": {
      "provenance": []
    },
    "kernelspec": {
      "name": "python3",
      "display_name": "Python 3"
    },
    "language_info": {
      "name": "python"
    }
  },
  "cells": [
    {
      "cell_type": "markdown",
      "source": [
        "Import The Packages"
      ],
      "metadata": {
        "id": "JfsZ9b0IfqJa"
      }
    },
    {
      "cell_type": "code",
      "execution_count": 36,
      "metadata": {
        "id": "bT-wBrPM3tyH"
      },
      "outputs": [],
      "source": [
        "import pandas as pd\n",
        "import numpy as np\n",
        "import matplotlib.pyplot as plt\n",
        "from PIL import Image\n",
        "from collections import Counter\n",
        "from wordcloud import WordCloud, STOPWORDS,ImageColorGenerator"
      ]
    },
    {
      "cell_type": "markdown",
      "source": [
        "Import The Dataset"
      ],
      "metadata": {
        "id": "s-Q6y7l8fuWe"
      }
    },
    {
      "cell_type": "code",
      "source": [
        "conversation=\"WhatsApp Chat with Gungun.txt\""
      ],
      "metadata": {
        "id": "wWMuUAcY5IG8"
      },
      "execution_count": 37,
      "outputs": []
    },
    {
      "cell_type": "markdown",
      "source": [
        "Find Time and Authors"
      ],
      "metadata": {
        "id": "dmRltGkOf4YS"
      }
    },
    {
      "cell_type": "code",
      "source": [
        "import re\n",
        "def date_time(s):\n",
        "  pattern='^([0-9]+)\\/([0-9]+)\\/([0-9]+),([0-9]+)(AM|PM|am|pm)?'\n",
        "\n",
        "  result=re.match(pattern,s)\n",
        "  if result:\n",
        "    return True\n",
        "  return False"
      ],
      "metadata": {
        "id": "hE5LubYG5I3V"
      },
      "execution_count": 42,
      "outputs": []
    },
    {
      "cell_type": "code",
      "source": [
        "from re import T\n",
        "def find_author(s):\n",
        "  s=s.split(\":\")\n",
        "  if len(s)==2:\n",
        "    return True\n",
        "  else:\n",
        "    return False"
      ],
      "metadata": {
        "id": "Ndaiey9V89i-"
      },
      "execution_count": 43,
      "outputs": []
    },
    {
      "cell_type": "markdown",
      "source": [
        "Find Messages"
      ],
      "metadata": {
        "id": "rvXFDw_6gIT4"
      }
    },
    {
      "cell_type": "code",
      "source": [
        "def message(line):\n",
        "  splitline=line.split(' - ')\n",
        "  dateTime=splitline[0]\n",
        "  date,time=dateTime.split(\",\")\n",
        "  message=\" \".join(splitline[1:])\n",
        "\n",
        "  if find_author(message):\n",
        "\n",
        "    splitmessage=message.split(\":\")\n",
        "    author=splitmessage[0]\n",
        "    message=\" \".join(splitmessage[1:])\n",
        "  else:\n",
        "    author=None\n",
        "  return date,time,author,message"
      ],
      "metadata": {
        "id": "j2QADOk09dO0"
      },
      "execution_count": 44,
      "outputs": []
    },
    {
      "cell_type": "code",
      "source": [
        "data = []\n",
        "conversation= \"WhatsApp Chat with Gungun.txt\"\n",
        "\n",
        "with open(conversation,encoding=\"utf-8\") as fp:\n",
        "  fp.readline()\n",
        "  messageBuffer = []\n",
        "  date, time, author = None, None, None\n",
        "  while True:\n",
        "      line=fp.readline()\n",
        "      if not line:\n",
        "         break\n",
        "      line = line.strip()\n",
        "      if date_time(line):\n",
        "          if len(messageBuffer) > 0:\n",
        "              data.append([date, time, author, ' '.join(messageBuffer)])\n",
        "          messageBuffer.clear()\n",
        "          date,time,author,message=getDatapoint(line)\n",
        "          messageBuffer.append(message)\n",
        "      else:\n",
        "          messageBuffer.append(line)\n",
        "\n",
        "\n",
        "\n"
      ],
      "metadata": {
        "id": "zBGmVBSVMvNC"
      },
      "execution_count": 45,
      "outputs": []
    },
    {
      "cell_type": "code",
      "source": [
        "import nltk\n",
        "nltk.download('vader_lexicon')"
      ],
      "metadata": {
        "colab": {
          "base_uri": "https://localhost:8080/"
        },
        "id": "BbmVLYFja74m",
        "outputId": "5797f824-b727-4f69-ef48-9490db34cade"
      },
      "execution_count": 47,
      "outputs": [
        {
          "output_type": "stream",
          "name": "stderr",
          "text": [
            "[nltk_data] Downloading package vader_lexicon to /root/nltk_data...\n"
          ]
        },
        {
          "output_type": "execute_result",
          "data": {
            "text/plain": [
              "True"
            ]
          },
          "metadata": {},
          "execution_count": 47
        }
      ]
    },
    {
      "cell_type": "markdown",
      "source": [
        "Sentiment Intensity Analyser Algorithm"
      ],
      "metadata": {
        "id": "yb7fHSXmgT3O"
      }
    },
    {
      "cell_type": "code",
      "source": [
        "df=pd.DataFrame(data,columns=[\"Date\",\"Time\",\"Author\",\"Message\"])\n",
        "df[\"Date\"]=pd.to_datetime(df[\"Date\"])\n",
        "data=df.dropna()\n",
        "from nltk.sentiment.vader import SentimentIntensityAnalyzer\n",
        "sentiments=SentimentIntensityAnalyzer()\n",
        "data[\"Positive\"]=[sentiments.polarity_scores(i)[\"pos\"] for i in data[\"Message\"]]\n",
        "data[\"Negative\"]=[sentiments.polarity_scores(i)[\"neg\"] for i in data[\"Message\"]]\n",
        "data[\"neutral\"]=[sentiments.polarity_scores(i)[\"neu\"] for i in data[\"Message\"]]\n",
        "print(data.head(10))"
      ],
      "metadata": {
        "colab": {
          "base_uri": "https://localhost:8080/"
        },
        "id": "T4-yX1fhXzR8",
        "outputId": "636b75f5-88bf-42e9-e6af-d156bfcbecf2"
      },
      "execution_count": 49,
      "outputs": [
        {
          "output_type": "stream",
          "name": "stdout",
          "text": [
            "Empty DataFrame\n",
            "Columns: [Date, Time, Author, Message, Positive, Negative, neutral]\n",
            "Index: []\n"
          ]
        }
      ]
    },
    {
      "cell_type": "markdown",
      "source": [
        "Validate the Sentiment"
      ],
      "metadata": {
        "id": "AmuzM5sFgbm9"
      }
    },
    {
      "cell_type": "code",
      "source": [
        "x=sum(data[\"Positive\"])\n",
        "y=sum(data[\"Negative\"])\n",
        "z=sum(data[\"neutral\"])\n",
        "\n",
        "def score(a,b,c):\n",
        "  if(a>b) and (a>c):\n",
        "    print(\"Positive\")\n",
        "  elif(b>a) and (b>c):\n",
        "    print(\"Negative\")\n",
        "  else:\n",
        "    print(\"Neutral\")\n",
        "\n",
        "score(x,y,z)"
      ],
      "metadata": {
        "colab": {
          "base_uri": "https://localhost:8080/"
        },
        "id": "Mr28aTPvS1oY",
        "outputId": "7f37ed03-545b-4242-9920-c9e95b6de5f7"
      },
      "execution_count": 50,
      "outputs": [
        {
          "output_type": "stream",
          "name": "stdout",
          "text": [
            "Neutral\n"
          ]
        }
      ]
    },
    {
      "cell_type": "code",
      "source": [],
      "metadata": {
        "id": "-ATnRMHvfJ39"
      },
      "execution_count": null,
      "outputs": []
    }
  ]
}